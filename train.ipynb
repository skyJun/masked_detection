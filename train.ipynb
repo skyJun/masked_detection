{
  "cells": [
    {
      "cell_type": "markdown",
      "metadata": {
        "id": "pVuAtM1g9b9W"
      },
      "source": [
        "\n",
        "# **0. Mask augmentation**\n",
        "\n",
        "*   mount google drive\n",
        "*   MaskTheFace github (https://github.com/aqeelanwar/MaskTheFace.git)\n",
        "*   include mask augmented face image samples in report\n",
        "\n"
      ]
    },
    {
      "cell_type": "code",
      "execution_count": null,
      "metadata": {
        "colab": {
          "base_uri": "https://localhost:8080/"
        },
        "collapsed": true,
        "id": "GW3NGlMU9UKG",
        "outputId": "b6fddce9-9ad4-45a8-e5aa-bc8f8d852d65"
      },
      "outputs": [],
      "source": [
        "from google.colab import drive\n",
        "drive.mount('/content/drive')"
      ]
    },
    {
      "cell_type": "code",
      "execution_count": null,
      "metadata": {
        "colab": {
          "base_uri": "https://localhost:8080/"
        },
        "collapsed": true,
        "id": "0kScZ8yp9Z7S",
        "outputId": "38546a44-e3ff-4808-ee23-48788aa0bf23"
      },
      "outputs": [],
      "source": [
        "cd '/content/drive/MyDrive/detect_mask'"
      ]
    },
    {
      "cell_type": "code",
      "execution_count": null,
      "metadata": {
        "colab": {
          "base_uri": "https://localhost:8080/"
        },
        "collapsed": true,
        "id": "PVqAUzuieo6_",
        "outputId": "9cf435b1-ba63-4019-aca3-43c8f1b7ae76"
      },
      "outputs": [],
      "source": [
        "!unzip data.zip"
      ]
    },
    {
      "cell_type": "code",
      "execution_count": null,
      "metadata": {
        "colab": {
          "base_uri": "https://localhost:8080/"
        },
        "collapsed": true,
        "id": "jR4AAKiK9Z9u",
        "outputId": "0fab54cc-da21-4681-c511-c5eaa86a2a73"
      },
      "outputs": [],
      "source": [
        "! git clone https://github.com/aqeelanwar/MaskTheFace.git"
      ]
    },
    {
      "cell_type": "code",
      "execution_count": 59,
      "metadata": {
        "colab": {
          "base_uri": "https://localhost:8080/"
        },
        "collapsed": true,
        "id": "uI6zApjYhY5V",
        "outputId": "a3512251-8bf8-4983-ad0c-27bcfe186105"
      },
      "outputs": [
        {
          "name": "stdout",
          "output_type": "stream",
          "text": [
            "Requirement already satisfied: cmake in c:\\users\\phyou\\anaconda3\\envs\\myvenv\\lib\\site-packages (3.29.3)\n",
            "Requirement already satisfied: dlib in c:\\users\\phyou\\anaconda3\\envs\\myvenv\\lib\\site-packages (19.24.0)\n",
            "Requirement already satisfied: scikit-learn in c:\\users\\phyou\\anaconda3\\envs\\myvenv\\lib\\site-packages (1.5.0)\n",
            "Requirement already satisfied: numpy>=1.19.5 in c:\\users\\phyou\\anaconda3\\envs\\myvenv\\lib\\site-packages (from scikit-learn) (1.24.3)\n",
            "Requirement already satisfied: scipy>=1.6.0 in c:\\users\\phyou\\anaconda3\\envs\\myvenv\\lib\\site-packages (from scikit-learn) (1.13.0)\n",
            "Requirement already satisfied: joblib>=1.2.0 in c:\\users\\phyou\\anaconda3\\envs\\myvenv\\lib\\site-packages (from scikit-learn) (1.4.2)\n",
            "Requirement already satisfied: threadpoolctl>=3.1.0 in c:\\users\\phyou\\anaconda3\\envs\\myvenv\\lib\\site-packages (from scikit-learn) (3.5.0)\n",
            "Requirement already satisfied: wandb in c:\\users\\phyou\\anaconda3\\envs\\myvenv\\lib\\site-packages (0.17.0)\n",
            "Requirement already satisfied: click!=8.0.0,>=7.1 in c:\\users\\phyou\\anaconda3\\envs\\myvenv\\lib\\site-packages (from wandb) (8.1.7)\n",
            "Requirement already satisfied: docker-pycreds>=0.4.0 in c:\\users\\phyou\\anaconda3\\envs\\myvenv\\lib\\site-packages (from wandb) (0.4.0)\n",
            "Requirement already satisfied: gitpython!=3.1.29,>=1.0.0 in c:\\users\\phyou\\anaconda3\\envs\\myvenv\\lib\\site-packages (from wandb) (3.1.43)\n",
            "Requirement already satisfied: platformdirs in c:\\users\\phyou\\anaconda3\\envs\\myvenv\\lib\\site-packages (from wandb) (4.2.2)\n",
            "Requirement already satisfied: protobuf!=4.21.0,<5,>=3.19.0 in c:\\users\\phyou\\anaconda3\\envs\\myvenv\\lib\\site-packages (from wandb) (3.20.3)\n",
            "Requirement already satisfied: psutil>=5.0.0 in c:\\users\\phyou\\anaconda3\\envs\\myvenv\\lib\\site-packages (from wandb) (5.9.8)\n",
            "Requirement already satisfied: pyyaml in c:\\users\\phyou\\anaconda3\\envs\\myvenv\\lib\\site-packages (from wandb) (6.0.1)\n",
            "Requirement already satisfied: requests<3,>=2.0.0 in c:\\users\\phyou\\anaconda3\\envs\\myvenv\\lib\\site-packages (from wandb) (2.32.2)\n",
            "Requirement already satisfied: sentry-sdk>=1.0.0 in c:\\users\\phyou\\anaconda3\\envs\\myvenv\\lib\\site-packages (from wandb) (2.2.1)\n",
            "Requirement already satisfied: setproctitle in c:\\users\\phyou\\anaconda3\\envs\\myvenv\\lib\\site-packages (from wandb) (1.3.3)\n",
            "Requirement already satisfied: setuptools in c:\\users\\phyou\\anaconda3\\envs\\myvenv\\lib\\site-packages (from wandb) (69.5.1)\n",
            "Requirement already satisfied: typing-extensions in c:\\users\\phyou\\anaconda3\\envs\\myvenv\\lib\\site-packages (from wandb) (4.11.0)\n",
            "Requirement already satisfied: colorama in c:\\users\\phyou\\anaconda3\\envs\\myvenv\\lib\\site-packages (from click!=8.0.0,>=7.1->wandb) (0.4.6)\n",
            "Requirement already satisfied: six>=1.4.0 in c:\\users\\phyou\\anaconda3\\envs\\myvenv\\lib\\site-packages (from docker-pycreds>=0.4.0->wandb) (1.16.0)\n",
            "Requirement already satisfied: gitdb<5,>=4.0.1 in c:\\users\\phyou\\anaconda3\\envs\\myvenv\\lib\\site-packages (from gitpython!=3.1.29,>=1.0.0->wandb) (4.0.11)\n",
            "Requirement already satisfied: charset-normalizer<4,>=2 in c:\\users\\phyou\\anaconda3\\envs\\myvenv\\lib\\site-packages (from requests<3,>=2.0.0->wandb) (2.0.4)\n",
            "Requirement already satisfied: idna<4,>=2.5 in c:\\users\\phyou\\anaconda3\\envs\\myvenv\\lib\\site-packages (from requests<3,>=2.0.0->wandb) (3.7)\n",
            "Requirement already satisfied: urllib3<3,>=1.21.1 in c:\\users\\phyou\\anaconda3\\envs\\myvenv\\lib\\site-packages (from requests<3,>=2.0.0->wandb) (2.2.1)\n",
            "Requirement already satisfied: certifi>=2017.4.17 in c:\\users\\phyou\\anaconda3\\envs\\myvenv\\lib\\site-packages (from requests<3,>=2.0.0->wandb) (2024.2.2)\n",
            "Requirement already satisfied: smmap<6,>=3.0.1 in c:\\users\\phyou\\anaconda3\\envs\\myvenv\\lib\\site-packages (from gitdb<5,>=4.0.1->gitpython!=3.1.29,>=1.0.0->wandb) (5.0.1)\n",
            "Requirement already satisfied: face-recognition in c:\\users\\phyou\\anaconda3\\envs\\myvenv\\lib\\site-packages (1.3.0)\n",
            "Requirement already satisfied: face-recognition-models>=0.3.0 in c:\\users\\phyou\\anaconda3\\envs\\myvenv\\lib\\site-packages (from face-recognition) (0.3.0)\n",
            "Requirement already satisfied: Click>=6.0 in c:\\users\\phyou\\anaconda3\\envs\\myvenv\\lib\\site-packages (from face-recognition) (8.1.7)\n",
            "Requirement already satisfied: dlib>=19.7 in c:\\users\\phyou\\anaconda3\\envs\\myvenv\\lib\\site-packages (from face-recognition) (19.24.0)\n",
            "Requirement already satisfied: numpy in c:\\users\\phyou\\anaconda3\\envs\\myvenv\\lib\\site-packages (from face-recognition) (1.24.3)\n",
            "Requirement already satisfied: Pillow in c:\\users\\phyou\\anaconda3\\envs\\myvenv\\lib\\site-packages (from face-recognition) (10.3.0)\n",
            "Requirement already satisfied: colorama in c:\\users\\phyou\\anaconda3\\envs\\myvenv\\lib\\site-packages (from Click>=6.0->face-recognition) (0.4.6)\n",
            "Requirement already satisfied: face-recognition-models in c:\\users\\phyou\\anaconda3\\envs\\myvenv\\lib\\site-packages (0.3.0)\n",
            "Requirement already satisfied: dotmap in c:\\users\\phyou\\anaconda3\\envs\\myvenv\\lib\\site-packages (1.3.30)\n",
            "Requirement already satisfied: torch in c:\\users\\phyou\\anaconda3\\envs\\myvenv\\lib\\site-packages (2.3.0)\n",
            "Requirement already satisfied: filelock in c:\\users\\phyou\\anaconda3\\envs\\myvenv\\lib\\site-packages (from torch) (3.13.1)\n",
            "Requirement already satisfied: typing-extensions>=4.8.0 in c:\\users\\phyou\\anaconda3\\envs\\myvenv\\lib\\site-packages (from torch) (4.11.0)\n",
            "Requirement already satisfied: sympy in c:\\users\\phyou\\anaconda3\\envs\\myvenv\\lib\\site-packages (from torch) (1.12)\n",
            "Requirement already satisfied: networkx in c:\\users\\phyou\\anaconda3\\envs\\myvenv\\lib\\site-packages (from torch) (3.1)\n",
            "Requirement already satisfied: jinja2 in c:\\users\\phyou\\anaconda3\\envs\\myvenv\\lib\\site-packages (from torch) (3.1.3)\n",
            "Requirement already satisfied: fsspec in c:\\users\\phyou\\anaconda3\\envs\\myvenv\\lib\\site-packages (from torch) (2024.5.0)\n",
            "Requirement already satisfied: mkl<=2021.4.0,>=2021.1.1 in c:\\users\\phyou\\anaconda3\\envs\\myvenv\\lib\\site-packages (from torch) (2021.4.0)\n",
            "Requirement already satisfied: intel-openmp==2021.* in c:\\users\\phyou\\anaconda3\\envs\\myvenv\\lib\\site-packages (from mkl<=2021.4.0,>=2021.1.1->torch) (2021.4.0)\n",
            "Requirement already satisfied: tbb==2021.* in c:\\users\\phyou\\anaconda3\\envs\\myvenv\\lib\\site-packages (from mkl<=2021.4.0,>=2021.1.1->torch) (2021.12.0)\n",
            "Requirement already satisfied: MarkupSafe>=2.0 in c:\\users\\phyou\\anaconda3\\envs\\myvenv\\lib\\site-packages (from jinja2->torch) (2.1.3)\n",
            "Requirement already satisfied: mpmath>=0.19 in c:\\users\\phyou\\anaconda3\\envs\\myvenv\\lib\\site-packages (from sympy->torch) (1.3.0)\n",
            "Requirement already satisfied: torchvision in c:\\users\\phyou\\anaconda3\\envs\\myvenv\\lib\\site-packages (0.18.0)\n",
            "Requirement already satisfied: numpy in c:\\users\\phyou\\anaconda3\\envs\\myvenv\\lib\\site-packages (from torchvision) (1.24.3)\n",
            "Requirement already satisfied: torch==2.3.0 in c:\\users\\phyou\\anaconda3\\envs\\myvenv\\lib\\site-packages (from torchvision) (2.3.0)\n",
            "Requirement already satisfied: pillow!=8.3.*,>=5.3.0 in c:\\users\\phyou\\anaconda3\\envs\\myvenv\\lib\\site-packages (from torchvision) (10.3.0)\n",
            "Requirement already satisfied: filelock in c:\\users\\phyou\\anaconda3\\envs\\myvenv\\lib\\site-packages (from torch==2.3.0->torchvision) (3.13.1)\n",
            "Requirement already satisfied: typing-extensions>=4.8.0 in c:\\users\\phyou\\anaconda3\\envs\\myvenv\\lib\\site-packages (from torch==2.3.0->torchvision) (4.11.0)\n",
            "Requirement already satisfied: sympy in c:\\users\\phyou\\anaconda3\\envs\\myvenv\\lib\\site-packages (from torch==2.3.0->torchvision) (1.12)\n",
            "Requirement already satisfied: networkx in c:\\users\\phyou\\anaconda3\\envs\\myvenv\\lib\\site-packages (from torch==2.3.0->torchvision) (3.1)\n",
            "Requirement already satisfied: jinja2 in c:\\users\\phyou\\anaconda3\\envs\\myvenv\\lib\\site-packages (from torch==2.3.0->torchvision) (3.1.3)\n",
            "Requirement already satisfied: fsspec in c:\\users\\phyou\\anaconda3\\envs\\myvenv\\lib\\site-packages (from torch==2.3.0->torchvision) (2024.5.0)\n",
            "Requirement already satisfied: mkl<=2021.4.0,>=2021.1.1 in c:\\users\\phyou\\anaconda3\\envs\\myvenv\\lib\\site-packages (from torch==2.3.0->torchvision) (2021.4.0)\n",
            "Requirement already satisfied: intel-openmp==2021.* in c:\\users\\phyou\\anaconda3\\envs\\myvenv\\lib\\site-packages (from mkl<=2021.4.0,>=2021.1.1->torch==2.3.0->torchvision) (2021.4.0)\n",
            "Requirement already satisfied: tbb==2021.* in c:\\users\\phyou\\anaconda3\\envs\\myvenv\\lib\\site-packages (from mkl<=2021.4.0,>=2021.1.1->torch==2.3.0->torchvision) (2021.12.0)\n",
            "Requirement already satisfied: MarkupSafe>=2.0 in c:\\users\\phyou\\anaconda3\\envs\\myvenv\\lib\\site-packages (from jinja2->torch==2.3.0->torchvision) (2.1.3)\n",
            "Requirement already satisfied: mpmath>=0.19 in c:\\users\\phyou\\anaconda3\\envs\\myvenv\\lib\\site-packages (from sympy->torch==2.3.0->torchvision) (1.3.0)\n",
            "Requirement already satisfied: opencv-python in c:\\users\\phyou\\anaconda3\\envs\\myvenv\\lib\\site-packages (4.9.0.80)\n",
            "Requirement already satisfied: numpy>=1.17.0 in c:\\users\\phyou\\anaconda3\\envs\\myvenv\\lib\\site-packages (from opencv-python) (1.24.3)\n",
            "Requirement already satisfied: chardet in c:\\users\\phyou\\anaconda3\\envs\\myvenv\\lib\\site-packages (5.2.0)\n",
            "Collecting plotly\n",
            "  Downloading plotly-5.22.0-py3-none-any.whl.metadata (7.1 kB)\n",
            "Collecting tenacity>=6.2.0 (from plotly)\n",
            "  Downloading tenacity-8.3.0-py3-none-any.whl.metadata (1.2 kB)\n",
            "Requirement already satisfied: packaging in c:\\users\\phyou\\anaconda3\\envs\\myvenv\\lib\\site-packages (from plotly) (24.0)\n",
            "Downloading plotly-5.22.0-py3-none-any.whl (16.4 MB)\n",
            "   ---------------------------------------- 0.0/16.4 MB ? eta -:--:--\n",
            "   ---------------------------------------- 0.0/16.4 MB ? eta -:--:--\n",
            "   ---------------------------------------- 0.0/16.4 MB 660.6 kB/s eta 0:00:25\n",
            "   ---------------------------------------- 0.1/16.4 MB 1.1 MB/s eta 0:00:16\n",
            "   -- ------------------------------------- 1.0/16.4 MB 7.7 MB/s eta 0:00:03\n",
            "   ----- ---------------------------------- 2.1/16.4 MB 12.4 MB/s eta 0:00:02\n",
            "   -------- ------------------------------- 3.3/16.4 MB 14.0 MB/s eta 0:00:01\n",
            "   ---------- ----------------------------- 4.5/16.4 MB 16.8 MB/s eta 0:00:01\n",
            "   ------------- -------------------------- 5.7/16.4 MB 17.2 MB/s eta 0:00:01\n",
            "   ---------------- ----------------------- 6.8/16.4 MB 18.1 MB/s eta 0:00:01\n",
            "   ------------------- -------------------- 8.0/16.4 MB 19.6 MB/s eta 0:00:01\n",
            "   ---------------------- ----------------- 9.1/16.4 MB 19.5 MB/s eta 0:00:01\n",
            "   ------------------------ --------------- 10.1/16.4 MB 19.5 MB/s eta 0:00:01\n",
            "   -------------------------- ------------- 10.7/16.4 MB 22.6 MB/s eta 0:00:01\n",
            "   ---------------------------- ----------- 11.5/16.4 MB 21.8 MB/s eta 0:00:01\n",
            "   ------------------------------- -------- 12.7/16.4 MB 21.9 MB/s eta 0:00:01\n",
            "   --------------------------------- ------ 13.9/16.4 MB 21.9 MB/s eta 0:00:01\n",
            "   ------------------------------------ --- 15.0/16.4 MB 21.8 MB/s eta 0:00:01\n",
            "   ---------------------------------------  16.1/16.4 MB 22.6 MB/s eta 0:00:01\n",
            "   ---------------------------------------  16.4/16.4 MB 22.6 MB/s eta 0:00:01\n",
            "   ---------------------------------------  16.4/16.4 MB 22.6 MB/s eta 0:00:01\n",
            "   ---------------------------------------  16.4/16.4 MB 22.6 MB/s eta 0:00:01\n",
            "   ---------------------------------------  16.4/16.4 MB 22.6 MB/s eta 0:00:01\n",
            "   ---------------------------------------  16.4/16.4 MB 22.6 MB/s eta 0:00:01\n",
            "   ---------------------------------------- 16.4/16.4 MB 14.9 MB/s eta 0:00:00\n",
            "Downloading tenacity-8.3.0-py3-none-any.whl (25 kB)\n",
            "Installing collected packages: tenacity, plotly\n",
            "Successfully installed plotly-5.22.0 tenacity-8.3.0\n"
          ]
        }
      ],
      "source": [
        "! pip3 install cmake\n",
        "! pip3 install dlib\n",
        "! pip3 install scikit-learn\n",
        "! pip3 install wandb\n",
        "! pip3 install face-recognition\n",
        "! pip3 install face-recognition-models\n",
        "! pip3 install dotmap\n",
        "! pip3 install torch\n",
        "! pip3 install torchvision\n",
        "! pip3 install opencv-python\n",
        "! pip3 install chardet"
      ]
    },
    {
      "cell_type": "code",
      "execution_count": null,
      "metadata": {
        "colab": {
          "base_uri": "https://localhost:8080/"
        },
        "id": "0hcXmDUC9aAS",
        "outputId": "fe7c469d-99ba-4ad2-951b-49c3505448d8"
      },
      "outputs": [],
      "source": [
        "cd 'MaskTheFace'"
      ]
    },
    {
      "cell_type": "code",
      "execution_count": null,
      "metadata": {
        "colab": {
          "base_uri": "https://localhost:8080/"
        },
        "collapsed": true,
        "id": "T8aQZxpH_oaV",
        "outputId": "3e70aa9d-58f4-4705-8c8c-8aafa31a2fa6"
      },
      "outputs": [],
      "source": [
        "# print current directory\n",
        "import os\n",
        "os.getcwd()\n",
        "!pip list"
      ]
    },
    {
      "cell_type": "code",
      "execution_count": null,
      "metadata": {
        "colab": {
          "base_uri": "https://localhost:8080/"
        },
        "collapsed": true,
        "id": "sm2gWJEO93Rz",
        "outputId": "1c3f6e0e-d666-430c-905d-487e631332bf"
      },
      "outputs": [],
      "source": [
        "! python mask_the_face.py --path \"/content/drive/MyDrive/detect_mask/train/not_wearing_mask\" --mask_type \"random\""
      ]
    },
    {
      "cell_type": "code",
      "execution_count": null,
      "metadata": {
        "colab": {
          "base_uri": "https://localhost:8080/"
        },
        "id": "dwP260HK9aFO",
        "outputId": "25210a2f-5cac-4a40-e7c2-b7a9dba96602"
      },
      "outputs": [],
      "source": [
        "! python mask_the_face.py --path \"/content/drive/MyDrive/detect_mask/val/not_wearing_mask\" --mask_type \"random\""
      ]
    },
    {
      "cell_type": "code",
      "execution_count": null,
      "metadata": {
        "colab": {
          "base_uri": "https://localhost:8080/",
          "height": 124
        },
        "id": "MlprADT99aHk",
        "outputId": "1c49e10a-825d-42fa-fb93-7ecf07404b8d"
      },
      "outputs": [],
      "source": [
        "import wandb\n",
        "wandb.login()\n",
        "#key: d9035e8bd0139db174a8c8ecd86c3df7e33e865b"
      ]
    },
    {
      "cell_type": "markdown",
      "metadata": {
        "id": "tpHtE4Lu96GR"
      },
      "source": [
        "# **1. Prepare Data for Training**\n",
        "\n",
        "*   data_loader using *torchvision.datasets.ImageFolder* for Custom dataset\n",
        "*   **image augmentation** in *transforms*\n",
        "*   include augmented face image samples in report\n",
        "\n"
      ]
    },
    {
      "cell_type": "code",
      "execution_count": 1,
      "metadata": {
        "id": "EHKJq22C9_Pk"
      },
      "outputs": [],
      "source": [
        "# import packages\n",
        "import torch\n",
        "import torchvision\n",
        "import torchvision.transforms as transforms\n",
        "from torch.utils.data import DataLoader\n",
        "import matplotlib.pyplot as plt\n"
      ]
    },
    {
      "cell_type": "code",
      "execution_count": 2,
      "metadata": {
        "id": "BGgwKyEY9_SP"
      },
      "outputs": [],
      "source": [
        "# transforms for image augmentation\n",
        "train_transform = torchvision.transforms.Compose([\n",
        "    transforms.ToTensor(),\n",
        "    transforms.RandomResizedCrop(size=(112, 112)),\n",
        "    transforms.RandomHorizontalFlip(),\n",
        "    transforms.RandomRotation(degrees=(-45, 45))\n",
        "])\n",
        "\n",
        "val_transform = torchvision.transforms.Compose([\n",
        "\n",
        "    transforms.ToTensor(),\n",
        "    transforms.Resize(size=(112, 112))\n",
        "])"
      ]
    },
    {
      "cell_type": "code",
      "execution_count": 3,
      "metadata": {
        "colab": {
          "base_uri": "https://localhost:8080/"
        },
        "id": "ZiQqnEio9_U1",
        "outputId": "e99e0239-3ed3-404a-e2de-c7f1be7be5a5"
      },
      "outputs": [
        {
          "name": "stdout",
          "output_type": "stream",
          "text": [
            "Train data labels: {'not_wearing_mask': 0, 'wearing_mask': 1}\n",
            "Validation data labels: {'not_wearing_mask': 0, 'wearing_mask': 1}\n"
          ]
        }
      ],
      "source": [
        "train_path = r\"C:\\Users\\phyou\\Documents\\AI\\train\"\n",
        "val_path = r\"C:\\Users\\phyou\\Documents\\AI\\val\"\n",
        "from torchvision.datasets import ImageFolder\n",
        "\n",
        "# write ImageFolder code below\n",
        "train_data = ImageFolder(root=train_path, transform=train_transform)\n",
        "valid_data = ImageFolder(root=val_path, transform=val_transform)\n",
        "\n",
        "# check the label\n",
        "# train_data.class_to_idx\n",
        "print(\"Train data labels:\", train_data.class_to_idx)\n",
        "# val_data.class_to_idx\n",
        "print(\"Validation data labels:\", valid_data.class_to_idx)"
      ]
    },
    {
      "cell_type": "code",
      "execution_count": 4,
      "metadata": {},
      "outputs": [
        {
          "data": {
            "image/png": "[encoded data removed]",
            "text/plain": [
              "<Figure size 640x480 with 1 Axes>"
            ]
          },
          "metadata": {},
          "output_type": "display_data"
        }
      ],
      "source": [
        "dataiter = iter(train_data)\n",
        "images, labels = next(dataiter)\n",
        "image = images[0]\n",
        "plt.imshow(image)\n",
        "plt.show()"
      ]
    },
    {
      "cell_type": "markdown",
      "metadata": {
        "id": "G3_M5PPK-rpS"
      },
      "source": [
        "# **2. Prepare Model**\n",
        "\n",
        "*   Pytorch ResNet - *ref*. https://github.com/pytorch/vision/blob/main/torchvision/models/resnet.py\n",
        "*   use **ResNet50** from torchvision.model_zoo\n",
        "*   explore more models in https://pytorch.org/vision/stable/models.html\n",
        "*   **change the dimension of the classifier**"
      ]
    },
    {
      "cell_type": "code",
      "execution_count": 5,
      "metadata": {
        "colab": {
          "base_uri": "https://localhost:8080/"
        },
        "id": "nnwmCewA9_XZ",
        "outputId": "e232c48b-4327-4884-c1e4-2404d7fcdb91"
      },
      "outputs": [
        {
          "name": "stdout",
          "output_type": "stream",
          "text": [
            "cuda:0\n"
          ]
        }
      ],
      "source": [
        "# assign device cpu or gpu\n",
        "device = torch.device(\"cuda:0\" if torch.cuda.is_available() else \"cpu\")\n",
        "print(device)"
      ]
    },
    {
      "cell_type": "code",
      "execution_count": 6,
      "metadata": {
        "id": "aWtoPoMw9_aB"
      },
      "outputs": [],
      "source": [
        "# import packages for importing models\n",
        "import torchvision.models as models\n",
        "from torchvision.models import resnet50, ResNet50_Weights\n"
      ]
    },
    {
      "cell_type": "code",
      "execution_count": 13,
      "metadata": {
        "colab": {
          "base_uri": "https://localhost:8080/"
        },
        "id": "uX0zF19P9_cd",
        "outputId": "e4bb3eec-cbc5-45c2-d6af-a7c8240c923c"
      },
      "outputs": [
        {
          "name": "stderr",
          "output_type": "stream",
          "text": [
            "c:\\Users\\phyou\\anaconda3\\envs\\myvenv\\lib\\site-packages\\torchvision\\models\\_utils.py:208: UserWarning: The parameter 'pretrained' is deprecated since 0.13 and may be removed in the future, please use 'weights' instead.\n",
            "  warnings.warn(\n",
            "c:\\Users\\phyou\\anaconda3\\envs\\myvenv\\lib\\site-packages\\torchvision\\models\\_utils.py:223: UserWarning: Arguments other than a weight enum or `None` for 'weights' are deprecated since 0.13 and may be removed in the future. The current behavior is equivalent to passing `weights=None`.\n",
            "  warnings.warn(msg)\n"
          ]
        }
      ],
      "source": [
        "# load model and change the # of classes\n",
        "num_classes = 1 #마스크 유무 0 or 1\n",
        "pretrained = False\n",
        "model = models.resnet50(pretrained= pretrained)\n",
        "model.fc = torch.nn.Linear(model.fc.in_features, num_classes)\n",
        "model = model.to(device)"
      ]
    },
    {
      "cell_type": "markdown",
      "metadata": {
        "id": "YVE3zX9_-_01"
      },
      "source": [
        "# **3. Training**\n",
        "\n",
        "\n",
        "*   write **training code** including belows:\n",
        "   - hyper parameters such as batch size, learning rate, epoch\n",
        "   - criterion(loss function such as BCELoss), optimizer(eg. Adam, SGD, etc.)  and scheduler\n",
        "   - save model weight\n",
        "\n",
        "*   **print training/validation loss and accuracy** per epoch or iteration\n",
        "*   inlcude visualizer, **tensorboard**, to show training/validation accuracy and loss\n"
      ]
    },
    {
      "cell_type": "code",
      "execution_count": 8,
      "metadata": {
        "colab": {
          "base_uri": "https://localhost:8080/",
          "height": 464,
          "referenced_widgets": [
            "29025c4565c747da8226b36b6dde96eb",
            "90ff3347227d4784aaf0e69d34e7cead",
            "45815ac2a9af4bc087602bbd9c14d361",
            "f12441a326684591b55344e8c2152995",
            "d624003062a94671b18abb91ae65eb57",
            "2224938871014d46a8ca387fa94bbc48",
            "0f38771fd702463cac3e55f0f835442e",
            "1d03705932f14e6995ac658d8e9b0269"
          ]
        },
        "collapsed": true,
        "id": "3GSGazJ_9_hX",
        "outputId": "2c284da7-b4ab-4c9b-e207-4b34face263f"
      },
      "outputs": [
        {
          "name": "stderr",
          "output_type": "stream",
          "text": [
            "Failed to detect the name of this notebook, you can set it manually with the WANDB_NOTEBOOK_NAME environment variable to enable code saving.\n",
            "\u001b[34m\u001b[1mwandb\u001b[0m: Currently logged in as: \u001b[33my60631188\u001b[0m (\u001b[33mphur99\u001b[0m). Use \u001b[1m`wandb login --relogin`\u001b[0m to force relogin\n"
          ]
        },
        {
          "data": {
            "text/plain": [
              "True"
            ]
          },
          "execution_count": 8,
          "metadata": {},
          "output_type": "execute_result"
        }
      ],
      "source": [
        "import torch\n",
        "import wandb\n",
        "import sklearn\n",
        "from sklearn import metrics\n",
        "import datetime\n",
        "import os\n",
        "import torch.optim as optim\n",
        "import numpy as np\n",
        "import matplotlib.pyplot as plt\n",
        "from tqdm import tqdm\n",
        "from sklearn.metrics import roc_curve, auc\n",
        "wandb.login()\n",
        "# use wandb.init"
      ]
    },
    {
      "cell_type": "code",
      "execution_count": 9,
      "metadata": {
        "id": "dDqbC5k09_mS"
      },
      "outputs": [],
      "source": [
        "def train_model(dataloader, model, loss_fn, optimizer):\n",
        "  # write training code\n",
        "  model.train()\n",
        "  running_loss = 0\n",
        "  acc_temp = 0\n",
        "\n",
        "  for inputs, labels in tqdm(dataloader):\n",
        "    inputs, labels = inputs.to(device), labels.to(device)\n",
        "\n",
        "    output = model(inputs).squeeze()  \n",
        "    loss = loss_fn(output, labels.float())\n",
        "    \n",
        "    optimizer.zero_grad()    \n",
        "    loss.backward()\n",
        "    optimizer.step()\n",
        "\n",
        "    pred = torch.round(torch.sigmoid(output))\n",
        "    acc_temp += pred.eq(labels).sum().item()\n",
        "    running_loss += loss.item() * inputs.size(0)\n",
        "    \n",
        "  acc = acc_temp / len(dataloader.dataset)\n",
        "  running_loss = running_loss / len(dataloader.dataset)\n",
        "  \n",
        "  return running_loss, acc"
      ]
    },
    {
      "cell_type": "code",
      "execution_count": 10,
      "metadata": {},
      "outputs": [],
      "source": [
        "      \n",
        "def val_model(dataloader, model, loss_fn):\n",
        "  # write validation code\n",
        "  model.eval()\n",
        "  predictions = []\n",
        "  true_labels = []\n",
        "  \n",
        "  with torch.no_grad():\n",
        "    running_loss = 0\n",
        "    acc_temp = 0\n",
        "\n",
        "    for inputs, labels in tqdm(dataloader):\n",
        "      inputs, labels = inputs.to(device), labels.to(device)\n",
        "\n",
        "      output = model(inputs).squeeze()\n",
        "      running_loss += loss_fn(output, labels.float()).item() * inputs.size(0)\n",
        "      output = torch.sigmoid(output)\n",
        "      pred = torch.round(output)\n",
        "\n",
        "      acc_temp += pred.eq(labels).sum().item()\n",
        "\n",
        "      predictions.append(output) \n",
        "      true_labels.append(labels)\n",
        "\n",
        "    acc = acc_temp / len(dataloader.dataset)\n",
        "    running_loss = running_loss / len(dataloader.dataset)\n",
        "    predictions = torch.cat(predictions, dim=0)\n",
        "    true_labels = torch.cat(true_labels, dim=0)\n",
        "    return running_loss, acc, true_labels, predictions"
      ]
    },
    {
      "cell_type": "code",
      "execution_count": null,
      "metadata": {
        "id": "d8gaKCGC9_rW"
      },
      "outputs": [],
      "source": [
        "# training and validation code can be writed in one function. It's your taste!\n",
        "\n"
      ]
    },
    {
      "cell_type": "code",
      "execution_count": 14,
      "metadata": {
        "id": "PteSbpql9_ts"
      },
      "outputs": [],
      "source": [
        "# hyper parameters\n",
        "num_epochs = 50\n",
        "batch_size = 64\n",
        "learning_rate = 0.01\n",
        "weight_decay = 0\n",
        "# data_loader\n",
        "train_dataloader = DataLoader(train_data, batch_size=batch_size, shuffle=True, num_workers= 4)\n",
        "vaild_dataloader = DataLoader(valid_data, batch_size=batch_size, shuffle=False, num_workers= 4)\n",
        "# optimizer, loss, scheduler\n",
        "optimizer = optim.Adam(model.parameters(), lr=learning_rate, weight_decay=weight_decay)\n",
        "loss_fn = torch.nn.BCEWithLogitsLoss().to(device)\n",
        "scheduler = optim.lr_scheduler.ReduceLROnPlateau(optimizer, mode='min', factor=0.1, patience=5)\n"
      ]
    },
    {
      "cell_type": "code",
      "execution_count": 15,
      "metadata": {},
      "outputs": [
        {
          "data": {
            "text/html": [
              "Finishing last run (ID:op7pjrlu) before initializing another..."
            ],
            "text/plain": [
              "<IPython.core.display.HTML object>"
            ]
          },
          "metadata": {},
          "output_type": "display_data"
        },
        {
          "data": {
            "text/html": [
              "<style>\n",
              "    table.wandb td:nth-child(1) { padding: 0 10px; text-align: left ; width: auto;} td:nth-child(2) {text-align: left ; width: 100%}\n",
              "    .wandb-row { display: flex; flex-direction: row; flex-wrap: wrap; justify-content: flex-start; width: 100% }\n",
              "    .wandb-col { display: flex; flex-direction: column; flex-basis: 100%; flex: 1; padding: 10px; }\n",
              "    </style>\n",
              "<div class=\"wandb-row\"><div class=\"wandb-col\"><h3>Run history:</h3><br/><table class=\"wandb\"><tr><td>train_acc</td><td>▁▃▄▅▆▆▆▆▇▇▆▇▇▇▇▇▇▇▇▇▇▇▇▇▇▇▇▇▇▇▇▇▇███████</td></tr><tr><td>train_loss</td><td>█▅▄▃▃▃▂▂▂▂▂▂▂▂▂▂▂▁▂▂▂▂▁▂▁▁▁▁▁▁▁▂▁▁▁▁▁▁▁▁</td></tr><tr><td>vaild_acc</td><td>▄▄▅▇██▇▆▇▇▄▇▆▇▆█▅▆▇█▇▃▇▇▅▇█▆▇█▇▁▇▂███▆▅▇</td></tr><tr><td>vaild_loss</td><td>▃▆▄▁▁▁▁▂▂▂▃▂▂▂▂▁▃▂▂▁▁▄▂▂▄▂▁▂▂▁▂█▂▆▁▁▁▄▃▂</td></tr></table><br/></div><div class=\"wandb-col\"><h3>Run summary:</h3><br/><table class=\"wandb\"><tr><td>train_acc</td><td>0.95513</td></tr><tr><td>train_loss</td><td>0.113</td></tr><tr><td>vaild_acc</td><td>0.98005</td></tr><tr><td>vaild_loss</td><td>0.07797</td></tr></table><br/></div></div>"
            ],
            "text/plain": [
              "<IPython.core.display.HTML object>"
            ]
          },
          "metadata": {},
          "output_type": "display_data"
        },
        {
          "data": {
            "text/html": [
              " View run <strong style=\"color:#cdcd00\">20240605-181417</strong> at: <a href='https://wandb.ai/phur99/ResNet/runs/op7pjrlu' target=\"_blank\">https://wandb.ai/phur99/ResNet/runs/op7pjrlu</a><br/> View project at: <a href='https://wandb.ai/phur99/ResNet' target=\"_blank\">https://wandb.ai/phur99/ResNet</a><br/>Synced 6 W&B file(s), 50 media file(s), 0 artifact file(s) and 0 other file(s)"
            ],
            "text/plain": [
              "<IPython.core.display.HTML object>"
            ]
          },
          "metadata": {},
          "output_type": "display_data"
        },
        {
          "data": {
            "text/html": [
              "Find logs at: <code>C:\\Users\\phyou\\Documents\\AI\\Result\\20240605-181417\\wandb\\run-20240605_181417-op7pjrlu\\logs</code>"
            ],
            "text/plain": [
              "<IPython.core.display.HTML object>"
            ]
          },
          "metadata": {},
          "output_type": "display_data"
        },
        {
          "data": {
            "text/html": [
              "Successfully finished last run (ID:op7pjrlu). Initializing new run:<br/>"
            ],
            "text/plain": [
              "<IPython.core.display.HTML object>"
            ]
          },
          "metadata": {},
          "output_type": "display_data"
        },
        {
          "data": {
            "text/html": [
              "Tracking run with wandb version 0.17.0"
            ],
            "text/plain": [
              "<IPython.core.display.HTML object>"
            ]
          },
          "metadata": {},
          "output_type": "display_data"
        },
        {
          "data": {
            "text/html": [
              "Run data is saved locally in <code>C:\\Users\\phyou\\Documents\\AI\\Result\\20240605-181417\\wandb\\run-20240605_190526-y8dgq8nv</code>"
            ],
            "text/plain": [
              "<IPython.core.display.HTML object>"
            ]
          },
          "metadata": {},
          "output_type": "display_data"
        },
        {
          "data": {
            "text/html": [
              "Syncing run <strong><a href='https://wandb.ai/phur99/mask_detection/runs/y8dgq8nv' target=\"_blank\">20240605-190526</a></strong> to <a href='https://wandb.ai/phur99/mask_detection' target=\"_blank\">Weights & Biases</a> (<a href='https://wandb.me/run' target=\"_blank\">docs</a>)<br/>"
            ],
            "text/plain": [
              "<IPython.core.display.HTML object>"
            ]
          },
          "metadata": {},
          "output_type": "display_data"
        },
        {
          "data": {
            "text/html": [
              " View project at <a href='https://wandb.ai/phur99/mask_detection' target=\"_blank\">https://wandb.ai/phur99/mask_detection</a>"
            ],
            "text/plain": [
              "<IPython.core.display.HTML object>"
            ]
          },
          "metadata": {},
          "output_type": "display_data"
        },
        {
          "data": {
            "text/html": [
              " View run at <a href='https://wandb.ai/phur99/mask_detection/runs/y8dgq8nv' target=\"_blank\">https://wandb.ai/phur99/mask_detection/runs/y8dgq8nv</a>"
            ],
            "text/plain": [
              "<IPython.core.display.HTML object>"
            ]
          },
          "metadata": {},
          "output_type": "display_data"
        },
        {
          "name": "stderr",
          "output_type": "stream",
          "text": [
            "100%|██████████| 186/186 [00:40<00:00,  4.54it/s]\n",
            "100%|██████████| 62/62 [00:15<00:00,  4.01it/s]\n"
          ]
        },
        {
          "name": "stdout",
          "output_type": "stream",
          "text": [
            "[INFO] v_loss has been improved from inf to 0.28827. Saving Model...\n",
            "epoch = 01, train_loss : 0.41254, vaild_loss : 0.28827, train_acc : 0.85288, vaild_acc : 0.93182\n"
          ]
        },
        {
          "name": "stderr",
          "output_type": "stream",
          "text": [
            "100%|██████████| 186/186 [00:41<00:00,  4.50it/s]\n",
            "100%|██████████| 62/62 [00:14<00:00,  4.15it/s]\n"
          ]
        },
        {
          "name": "stdout",
          "output_type": "stream",
          "text": [
            "[INFO] v_loss has been improved from 0.28827 to 0.26875. Saving Model...\n",
            "epoch = 02, train_loss : 0.28858, vaild_loss : 0.26875, train_acc : 0.89178, vaild_acc : 0.90505\n"
          ]
        },
        {
          "name": "stderr",
          "output_type": "stream",
          "text": [
            "100%|██████████| 186/186 [00:38<00:00,  4.82it/s]\n",
            "100%|██████████| 62/62 [00:14<00:00,  4.19it/s]\n"
          ]
        },
        {
          "name": "stdout",
          "output_type": "stream",
          "text": [
            "[INFO] v_loss has been improved from 0.26875 to 0.12882. Saving Model...\n",
            "epoch = 03, train_loss : 0.24072, vaild_loss : 0.12882, train_acc : 0.90237, vaild_acc : 0.95480\n"
          ]
        },
        {
          "name": "stderr",
          "output_type": "stream",
          "text": [
            "100%|██████████| 186/186 [00:38<00:00,  4.79it/s]\n",
            "100%|██████████| 62/62 [00:14<00:00,  4.29it/s]\n"
          ]
        },
        {
          "name": "stdout",
          "output_type": "stream",
          "text": [
            "epoch = 04, train_loss : 0.21542, vaild_loss : 0.28716, train_acc : 0.91203, vaild_acc : 0.92146\n"
          ]
        },
        {
          "name": "stderr",
          "output_type": "stream",
          "text": [
            "100%|██████████| 186/186 [00:38<00:00,  4.79it/s]\n",
            "100%|██████████| 62/62 [00:14<00:00,  4.31it/s]\n"
          ]
        },
        {
          "name": "stdout",
          "output_type": "stream",
          "text": [
            "epoch = 05, train_loss : 0.19227, vaild_loss : 0.14376, train_acc : 0.92153, vaild_acc : 0.96414\n"
          ]
        },
        {
          "name": "stderr",
          "output_type": "stream",
          "text": [
            "100%|██████████| 186/186 [00:38<00:00,  4.83it/s]\n",
            "100%|██████████| 62/62 [00:14<00:00,  4.23it/s]\n"
          ]
        },
        {
          "name": "stdout",
          "output_type": "stream",
          "text": [
            "[INFO] v_loss has been improved from 0.12882 to 0.08065. Saving Model...\n",
            "epoch = 06, train_loss : 0.17485, vaild_loss : 0.08065, train_acc : 0.93102, vaild_acc : 0.97449\n"
          ]
        },
        {
          "name": "stderr",
          "output_type": "stream",
          "text": [
            "100%|██████████| 186/186 [00:38<00:00,  4.84it/s]\n",
            "100%|██████████| 62/62 [00:14<00:00,  4.30it/s]\n"
          ]
        },
        {
          "name": "stdout",
          "output_type": "stream",
          "text": [
            "[INFO] v_loss has been improved from 0.08065 to 0.03711. Saving Model...\n",
            "epoch = 07, train_loss : 0.16155, vaild_loss : 0.03711, train_acc : 0.93186, vaild_acc : 0.98838\n"
          ]
        },
        {
          "name": "stderr",
          "output_type": "stream",
          "text": [
            "100%|██████████| 186/186 [00:38<00:00,  4.84it/s]\n",
            "100%|██████████| 62/62 [00:14<00:00,  4.25it/s]\n"
          ]
        },
        {
          "name": "stdout",
          "output_type": "stream",
          "text": [
            "epoch = 08, train_loss : 0.15124, vaild_loss : 0.04265, train_acc : 0.93404, vaild_acc : 0.98712\n"
          ]
        },
        {
          "name": "stderr",
          "output_type": "stream",
          "text": [
            "100%|██████████| 186/186 [00:38<00:00,  4.85it/s]\n",
            "100%|██████████| 62/62 [00:15<00:00,  4.11it/s]\n"
          ]
        },
        {
          "name": "stdout",
          "output_type": "stream",
          "text": [
            "epoch = 09, train_loss : 0.14091, vaild_loss : 0.05750, train_acc : 0.94035, vaild_acc : 0.98409\n"
          ]
        },
        {
          "name": "stderr",
          "output_type": "stream",
          "text": [
            "100%|██████████| 186/186 [00:38<00:00,  4.85it/s]\n",
            "100%|██████████| 62/62 [00:14<00:00,  4.29it/s]\n"
          ]
        },
        {
          "name": "stdout",
          "output_type": "stream",
          "text": [
            "epoch = 10, train_loss : 0.14293, vaild_loss : 0.24757, train_acc : 0.94026, vaild_acc : 0.94773\n"
          ]
        },
        {
          "name": "stderr",
          "output_type": "stream",
          "text": [
            "100%|██████████| 186/186 [00:38<00:00,  4.85it/s]\n",
            "100%|██████████| 62/62 [00:14<00:00,  4.29it/s]\n"
          ]
        },
        {
          "name": "stdout",
          "output_type": "stream",
          "text": [
            "epoch = 11, train_loss : 0.13836, vaild_loss : 0.06491, train_acc : 0.94488, vaild_acc : 0.97727\n"
          ]
        },
        {
          "name": "stderr",
          "output_type": "stream",
          "text": [
            "100%|██████████| 186/186 [00:38<00:00,  4.84it/s]\n",
            "100%|██████████| 62/62 [00:14<00:00,  4.26it/s]\n"
          ]
        },
        {
          "name": "stdout",
          "output_type": "stream",
          "text": [
            "epoch = 12, train_loss : 0.12978, vaild_loss : 0.09937, train_acc : 0.94682, vaild_acc : 0.97222\n"
          ]
        },
        {
          "name": "stderr",
          "output_type": "stream",
          "text": [
            "100%|██████████| 186/186 [00:38<00:00,  4.85it/s]\n",
            "100%|██████████| 62/62 [00:14<00:00,  4.22it/s]\n"
          ]
        },
        {
          "name": "stdout",
          "output_type": "stream",
          "text": [
            "epoch = 13, train_loss : 0.12780, vaild_loss : 0.18277, train_acc : 0.94572, vaild_acc : 0.94596\n"
          ]
        },
        {
          "name": "stderr",
          "output_type": "stream",
          "text": [
            "100%|██████████| 186/186 [00:38<00:00,  4.86it/s]\n",
            "100%|██████████| 62/62 [00:14<00:00,  4.28it/s]\n"
          ]
        },
        {
          "name": "stdout",
          "output_type": "stream",
          "text": [
            "epoch = 14, train_loss : 0.12139, vaild_loss : 0.05713, train_acc : 0.94766, vaild_acc : 0.98106\n"
          ]
        },
        {
          "name": "stderr",
          "output_type": "stream",
          "text": [
            "100%|██████████| 186/186 [00:38<00:00,  4.79it/s]\n",
            "100%|██████████| 62/62 [00:14<00:00,  4.14it/s]\n"
          ]
        },
        {
          "name": "stdout",
          "output_type": "stream",
          "text": [
            "epoch = 15, train_loss : 0.12189, vaild_loss : 0.07086, train_acc : 0.94992, vaild_acc : 0.97020\n"
          ]
        },
        {
          "name": "stderr",
          "output_type": "stream",
          "text": [
            "100%|██████████| 186/186 [00:39<00:00,  4.67it/s]\n",
            "100%|██████████| 62/62 [00:15<00:00,  3.93it/s]\n"
          ]
        },
        {
          "name": "stdout",
          "output_type": "stream",
          "text": [
            "epoch = 16, train_loss : 0.12214, vaild_loss : 0.09190, train_acc : 0.95085, vaild_acc : 0.96692\n"
          ]
        },
        {
          "name": "stderr",
          "output_type": "stream",
          "text": [
            "100%|██████████| 186/186 [00:40<00:00,  4.60it/s]\n",
            "100%|██████████| 62/62 [00:15<00:00,  4.09it/s]\n"
          ]
        },
        {
          "name": "stdout",
          "output_type": "stream",
          "text": [
            "epoch = 17, train_loss : 0.11485, vaild_loss : 0.04653, train_acc : 0.95278, vaild_acc : 0.99015\n"
          ]
        },
        {
          "name": "stderr",
          "output_type": "stream",
          "text": [
            "100%|██████████| 186/186 [00:40<00:00,  4.65it/s]\n",
            "100%|██████████| 62/62 [00:15<00:00,  4.06it/s]\n"
          ]
        },
        {
          "name": "stdout",
          "output_type": "stream",
          "text": [
            "epoch = 18, train_loss : 0.11341, vaild_loss : 0.06784, train_acc : 0.95354, vaild_acc : 0.97551\n"
          ]
        },
        {
          "name": "stderr",
          "output_type": "stream",
          "text": [
            "100%|██████████| 186/186 [00:40<00:00,  4.62it/s]\n",
            "100%|██████████| 62/62 [00:15<00:00,  4.03it/s]\n"
          ]
        },
        {
          "name": "stdout",
          "output_type": "stream",
          "text": [
            "epoch = 19, train_loss : 0.11478, vaild_loss : 0.35853, train_acc : 0.95034, vaild_acc : 0.84621\n"
          ]
        },
        {
          "name": "stderr",
          "output_type": "stream",
          "text": [
            "100%|██████████| 186/186 [00:40<00:00,  4.63it/s]\n",
            "100%|██████████| 62/62 [00:15<00:00,  4.10it/s]\n"
          ]
        },
        {
          "name": "stdout",
          "output_type": "stream",
          "text": [
            "[INFO] v_loss has been improved from 0.03711 to 0.03103. Saving Model...\n",
            "epoch = 20, train_loss : 0.11123, vaild_loss : 0.03103, train_acc : 0.95329, vaild_acc : 0.99066\n"
          ]
        },
        {
          "name": "stderr",
          "output_type": "stream",
          "text": [
            "100%|██████████| 186/186 [00:40<00:00,  4.61it/s]\n",
            "100%|██████████| 62/62 [00:15<00:00,  4.13it/s]\n"
          ]
        },
        {
          "name": "stdout",
          "output_type": "stream",
          "text": [
            "epoch = 21, train_loss : 0.11547, vaild_loss : 0.18234, train_acc : 0.95278, vaild_acc : 0.93813\n"
          ]
        },
        {
          "name": "stderr",
          "output_type": "stream",
          "text": [
            "100%|██████████| 186/186 [00:40<00:00,  4.62it/s]\n",
            "100%|██████████| 62/62 [00:15<00:00,  3.99it/s]\n"
          ]
        },
        {
          "name": "stdout",
          "output_type": "stream",
          "text": [
            "epoch = 22, train_loss : 0.11450, vaild_loss : 0.05298, train_acc : 0.95228, vaild_acc : 0.98384\n"
          ]
        },
        {
          "name": "stderr",
          "output_type": "stream",
          "text": [
            "100%|██████████| 186/186 [00:40<00:00,  4.59it/s]\n",
            "100%|██████████| 62/62 [00:15<00:00,  4.10it/s]\n"
          ]
        },
        {
          "name": "stdout",
          "output_type": "stream",
          "text": [
            "epoch = 23, train_loss : 0.10942, vaild_loss : 0.03611, train_acc : 0.95345, vaild_acc : 0.98864\n"
          ]
        },
        {
          "name": "stderr",
          "output_type": "stream",
          "text": [
            "100%|██████████| 186/186 [00:40<00:00,  4.58it/s]\n",
            "100%|██████████| 62/62 [00:15<00:00,  4.08it/s]\n"
          ]
        },
        {
          "name": "stdout",
          "output_type": "stream",
          "text": [
            "epoch = 24, train_loss : 0.10070, vaild_loss : 0.05640, train_acc : 0.95866, vaild_acc : 0.98258\n"
          ]
        },
        {
          "name": "stderr",
          "output_type": "stream",
          "text": [
            "100%|██████████| 186/186 [00:40<00:00,  4.61it/s]\n",
            "100%|██████████| 62/62 [00:15<00:00,  4.09it/s]\n"
          ]
        },
        {
          "name": "stdout",
          "output_type": "stream",
          "text": [
            "epoch = 25, train_loss : 0.10088, vaild_loss : 0.05714, train_acc : 0.95723, vaild_acc : 0.98308\n"
          ]
        },
        {
          "name": "stderr",
          "output_type": "stream",
          "text": [
            "100%|██████████| 186/186 [00:40<00:00,  4.63it/s]\n",
            "100%|██████████| 62/62 [00:15<00:00,  4.07it/s]\n"
          ]
        },
        {
          "name": "stdout",
          "output_type": "stream",
          "text": [
            "epoch = 26, train_loss : 0.09711, vaild_loss : 0.03145, train_acc : 0.95883, vaild_acc : 0.99217\n"
          ]
        },
        {
          "name": "stderr",
          "output_type": "stream",
          "text": [
            "100%|██████████| 186/186 [00:40<00:00,  4.62it/s]\n",
            "100%|██████████| 62/62 [00:15<00:00,  4.08it/s]\n"
          ]
        },
        {
          "name": "stdout",
          "output_type": "stream",
          "text": [
            "epoch = 27, train_loss : 0.10537, vaild_loss : 0.03301, train_acc : 0.95690, vaild_acc : 0.98990\n"
          ]
        },
        {
          "name": "stderr",
          "output_type": "stream",
          "text": [
            "100%|██████████| 186/186 [00:40<00:00,  4.61it/s]\n",
            "100%|██████████| 62/62 [00:15<00:00,  4.09it/s]\n"
          ]
        },
        {
          "name": "stdout",
          "output_type": "stream",
          "text": [
            "[INFO] v_loss has been improved from 0.03103 to 0.02135. Saving Model...\n",
            "epoch = 28, train_loss : 0.09764, vaild_loss : 0.02135, train_acc : 0.95917, vaild_acc : 0.99268\n"
          ]
        },
        {
          "name": "stderr",
          "output_type": "stream",
          "text": [
            "100%|██████████| 186/186 [00:40<00:00,  4.61it/s]\n",
            "100%|██████████| 62/62 [00:15<00:00,  4.10it/s]\n"
          ]
        },
        {
          "name": "stdout",
          "output_type": "stream",
          "text": [
            "[INFO] v_loss has been improved from 0.02135 to 0.01799. Saving Model...\n",
            "epoch = 29, train_loss : 0.09262, vaild_loss : 0.01799, train_acc : 0.96127, vaild_acc : 0.99444\n"
          ]
        },
        {
          "name": "stderr",
          "output_type": "stream",
          "text": [
            "100%|██████████| 186/186 [00:40<00:00,  4.59it/s]\n",
            "100%|██████████| 62/62 [00:15<00:00,  4.02it/s]\n"
          ]
        },
        {
          "name": "stdout",
          "output_type": "stream",
          "text": [
            "epoch = 30, train_loss : 0.09401, vaild_loss : 0.02336, train_acc : 0.96034, vaild_acc : 0.99192\n"
          ]
        },
        {
          "name": "stderr",
          "output_type": "stream",
          "text": [
            "100%|██████████| 186/186 [00:40<00:00,  4.64it/s]\n",
            "100%|██████████| 62/62 [00:14<00:00,  4.14it/s]\n"
          ]
        },
        {
          "name": "stdout",
          "output_type": "stream",
          "text": [
            "epoch = 31, train_loss : 0.09208, vaild_loss : 0.03183, train_acc : 0.96219, vaild_acc : 0.98914\n"
          ]
        },
        {
          "name": "stderr",
          "output_type": "stream",
          "text": [
            "100%|██████████| 186/186 [00:39<00:00,  4.67it/s]\n",
            "100%|██████████| 62/62 [00:15<00:00,  4.09it/s]\n"
          ]
        },
        {
          "name": "stdout",
          "output_type": "stream",
          "text": [
            "epoch = 32, train_loss : 0.09422, vaild_loss : 0.03037, train_acc : 0.95891, vaild_acc : 0.98914\n"
          ]
        },
        {
          "name": "stderr",
          "output_type": "stream",
          "text": [
            "100%|██████████| 186/186 [00:40<00:00,  4.65it/s]\n",
            "100%|██████████| 62/62 [00:15<00:00,  4.09it/s]\n"
          ]
        },
        {
          "name": "stdout",
          "output_type": "stream",
          "text": [
            "epoch = 33, train_loss : 0.09522, vaild_loss : 0.01977, train_acc : 0.96001, vaild_acc : 0.99192\n"
          ]
        },
        {
          "name": "stderr",
          "output_type": "stream",
          "text": [
            "100%|██████████| 186/186 [00:39<00:00,  4.66it/s]\n",
            "100%|██████████| 62/62 [00:15<00:00,  4.13it/s]\n"
          ]
        },
        {
          "name": "stdout",
          "output_type": "stream",
          "text": [
            "epoch = 34, train_loss : 0.08846, vaild_loss : 0.20493, train_acc : 0.96286, vaild_acc : 0.95631\n"
          ]
        },
        {
          "name": "stderr",
          "output_type": "stream",
          "text": [
            "100%|██████████| 186/186 [00:40<00:00,  4.64it/s]\n",
            "100%|██████████| 62/62 [00:14<00:00,  4.16it/s]\n"
          ]
        },
        {
          "name": "stdout",
          "output_type": "stream",
          "text": [
            "epoch = 35, train_loss : 0.09313, vaild_loss : 0.02465, train_acc : 0.95975, vaild_acc : 0.99167\n"
          ]
        },
        {
          "name": "stderr",
          "output_type": "stream",
          "text": [
            "100%|██████████| 186/186 [00:40<00:00,  4.64it/s]\n",
            "100%|██████████| 62/62 [00:15<00:00,  4.12it/s]\n"
          ]
        },
        {
          "name": "stdout",
          "output_type": "stream",
          "text": [
            "epoch = 36, train_loss : 0.09128, vaild_loss : 0.03455, train_acc : 0.96085, vaild_acc : 0.98763\n"
          ]
        },
        {
          "name": "stderr",
          "output_type": "stream",
          "text": [
            "100%|██████████| 186/186 [00:40<00:00,  4.64it/s]\n",
            "100%|██████████| 62/62 [00:15<00:00,  4.07it/s]\n"
          ]
        },
        {
          "name": "stdout",
          "output_type": "stream",
          "text": [
            "epoch = 37, train_loss : 0.09247, vaild_loss : 0.03364, train_acc : 0.96118, vaild_acc : 0.99066\n"
          ]
        },
        {
          "name": "stderr",
          "output_type": "stream",
          "text": [
            "100%|██████████| 186/186 [00:39<00:00,  4.67it/s]\n",
            "100%|██████████| 62/62 [00:15<00:00,  4.11it/s]\n"
          ]
        },
        {
          "name": "stdout",
          "output_type": "stream",
          "text": [
            "epoch = 38, train_loss : 0.09350, vaild_loss : 0.12481, train_acc : 0.95891, vaild_acc : 0.97525\n"
          ]
        },
        {
          "name": "stderr",
          "output_type": "stream",
          "text": [
            "100%|██████████| 186/186 [00:39<00:00,  4.67it/s]\n",
            "100%|██████████| 62/62 [00:15<00:00,  4.11it/s]\n"
          ]
        },
        {
          "name": "stdout",
          "output_type": "stream",
          "text": [
            "epoch = 39, train_loss : 0.08689, vaild_loss : 0.03757, train_acc : 0.96404, vaild_acc : 0.98889\n"
          ]
        },
        {
          "name": "stderr",
          "output_type": "stream",
          "text": [
            "100%|██████████| 186/186 [00:39<00:00,  4.67it/s]\n",
            "100%|██████████| 62/62 [00:15<00:00,  4.10it/s]\n"
          ]
        },
        {
          "name": "stdout",
          "output_type": "stream",
          "text": [
            "epoch = 40, train_loss : 0.09025, vaild_loss : 0.02597, train_acc : 0.96202, vaild_acc : 0.99116\n"
          ]
        },
        {
          "name": "stderr",
          "output_type": "stream",
          "text": [
            "100%|██████████| 186/186 [00:39<00:00,  4.65it/s]\n",
            "100%|██████████| 62/62 [00:15<00:00,  4.11it/s]\n"
          ]
        },
        {
          "name": "stdout",
          "output_type": "stream",
          "text": [
            "epoch = 41, train_loss : 0.08614, vaild_loss : 0.04700, train_acc : 0.96152, vaild_acc : 0.98258\n"
          ]
        },
        {
          "name": "stderr",
          "output_type": "stream",
          "text": [
            "100%|██████████| 186/186 [00:40<00:00,  4.62it/s]\n",
            "100%|██████████| 62/62 [00:15<00:00,  3.97it/s]\n"
          ]
        },
        {
          "name": "stdout",
          "output_type": "stream",
          "text": [
            "epoch = 42, train_loss : 0.08827, vaild_loss : 0.05390, train_acc : 0.96085, vaild_acc : 0.98308\n"
          ]
        },
        {
          "name": "stderr",
          "output_type": "stream",
          "text": [
            "100%|██████████| 186/186 [00:40<00:00,  4.64it/s]\n",
            "100%|██████████| 62/62 [00:15<00:00,  4.13it/s]\n"
          ]
        },
        {
          "name": "stdout",
          "output_type": "stream",
          "text": [
            "epoch = 43, train_loss : 0.08431, vaild_loss : 0.05669, train_acc : 0.96471, vaild_acc : 0.98081\n"
          ]
        },
        {
          "name": "stderr",
          "output_type": "stream",
          "text": [
            "100%|██████████| 186/186 [00:40<00:00,  4.63it/s]\n",
            "100%|██████████| 62/62 [00:15<00:00,  4.13it/s]\n"
          ]
        },
        {
          "name": "stdout",
          "output_type": "stream",
          "text": [
            "epoch = 44, train_loss : 0.08075, vaild_loss : 0.02987, train_acc : 0.96555, vaild_acc : 0.99369\n"
          ]
        },
        {
          "name": "stderr",
          "output_type": "stream",
          "text": [
            "100%|██████████| 186/186 [00:39<00:00,  4.66it/s]\n",
            "100%|██████████| 62/62 [00:15<00:00,  4.08it/s]\n"
          ]
        },
        {
          "name": "stdout",
          "output_type": "stream",
          "text": [
            "epoch = 45, train_loss : 0.08325, vaild_loss : 0.02239, train_acc : 0.96295, vaild_acc : 0.99444\n"
          ]
        },
        {
          "name": "stderr",
          "output_type": "stream",
          "text": [
            "100%|██████████| 186/186 [00:40<00:00,  4.57it/s]\n",
            "100%|██████████| 62/62 [00:15<00:00,  4.04it/s]\n"
          ]
        },
        {
          "name": "stdout",
          "output_type": "stream",
          "text": [
            "epoch = 46, train_loss : 0.08565, vaild_loss : 0.03400, train_acc : 0.96202, vaild_acc : 0.98864\n"
          ]
        },
        {
          "name": "stderr",
          "output_type": "stream",
          "text": [
            "100%|██████████| 186/186 [00:40<00:00,  4.59it/s]\n",
            "100%|██████████| 62/62 [00:15<00:00,  4.08it/s]\n"
          ]
        },
        {
          "name": "stdout",
          "output_type": "stream",
          "text": [
            "epoch = 47, train_loss : 0.08013, vaild_loss : 0.03170, train_acc : 0.96421, vaild_acc : 0.99015\n"
          ]
        },
        {
          "name": "stderr",
          "output_type": "stream",
          "text": [
            "100%|██████████| 186/186 [00:40<00:00,  4.64it/s]\n",
            "100%|██████████| 62/62 [00:14<00:00,  4.15it/s]\n"
          ]
        },
        {
          "name": "stdout",
          "output_type": "stream",
          "text": [
            "[INFO] v_loss has been improved from 0.01799 to 0.01408. Saving Model...\n",
            "epoch = 48, train_loss : 0.08311, vaild_loss : 0.01408, train_acc : 0.96236, vaild_acc : 0.99596\n"
          ]
        },
        {
          "name": "stderr",
          "output_type": "stream",
          "text": [
            "100%|██████████| 186/186 [00:40<00:00,  4.62it/s]\n",
            "100%|██████████| 62/62 [00:15<00:00,  4.13it/s]\n"
          ]
        },
        {
          "name": "stdout",
          "output_type": "stream",
          "text": [
            "epoch = 49, train_loss : 0.08324, vaild_loss : 0.04106, train_acc : 0.96354, vaild_acc : 0.98611\n"
          ]
        },
        {
          "name": "stderr",
          "output_type": "stream",
          "text": [
            "100%|██████████| 186/186 [00:40<00:00,  4.63it/s]\n",
            "100%|██████████| 62/62 [00:14<00:00,  4.16it/s]"
          ]
        },
        {
          "name": "stdout",
          "output_type": "stream",
          "text": [
            "epoch = 50, train_loss : 0.08110, vaild_loss : 0.01455, train_acc : 0.96496, vaild_acc : 0.99621\n"
          ]
        },
        {
          "name": "stderr",
          "output_type": "stream",
          "text": [
            "\n"
          ]
        }
      ],
      "source": [
        "save_path = r\"C:\\Users\\phyou\\Documents\\AI\\Result\\\\\" +  datetime.datetime.now().strftime(\"%Y%m%d-%H%M%S\") + \"/\"\n",
        "os.makedirs(save_path, exist_ok=True)\n",
        "os.chdir(save_path)    \n",
        "project = 'mask_detection'\n",
        "name = datetime.datetime.now().strftime('%Y%m%d-%H%M%S')\n",
        "\n",
        "min_loss = np.inf\n",
        "wandb.init(project = f\"{project}\", name=f\"{name}\", config = {\n",
        "    \"model\" : model.__class__.__name__,\n",
        "    \"epochs\": num_epochs,\n",
        "    \"batch_size\": batch_size,\n",
        "    \"learning_rate\": learning_rate,\n",
        "    \"weight_decay\" : weight_decay,\n",
        "    \"pretrained\" : pretrained\n",
        "}, reinit=True)\n",
        "\n",
        "for epoch in range(num_epochs):\n",
        "    t_loss, t_acc = train_model(dataloader=train_dataloader, model=model, loss_fn=loss_fn, optimizer=optimizer)\n",
        "    v_loss, v_acc, true_labels, predictions = val_model(dataloader=vaild_dataloader, model=model, loss_fn=loss_fn)\n",
        "    if v_acc < 0.6 : break\n",
        "    \n",
        "    if v_loss < min_loss :\n",
        "        print(f\"[INFO] v_loss has been improved from {min_loss:.5f} to {v_loss:.5f}. Saving Model...\")\n",
        "        min_loss = v_loss\n",
        "        torch.save(model.state_dict(), f'{model.__class__.__name__}_{min_loss:.5f}.pth')\n",
        "\n",
        "    print(  f'epoch = {epoch + 1:02d}, train_loss : {t_loss:.5f}, '\n",
        "            f'vaild_loss : {v_loss:.5f}, '\n",
        "            f'train_acc : {t_acc:.5f}, '\n",
        "            f'vaild_acc : {v_acc:.5f}')\n",
        "\n",
        "    fpr, tpr, thresholds = roc_curve(true_labels.cpu().numpy(), predictions.cpu().numpy())\n",
        "    roc_auc = auc(fpr, tpr)\n",
        "\n",
        "    plt.figure()\n",
        "    plt.plot(fpr, tpr, color='darkorange', lw=2, label=f'epoch : {epoch + 1:02d} / (area = %0.2f)' % roc_auc)\n",
        "    plt.plot([0, 1], [0, 1], color='navy', lw=2, linestyle='--')\n",
        "    plt.xlabel('False Positive Rate')\n",
        "    plt.ylabel('True Positive Rate')\n",
        "    plt.title('Receiver Operating Characteristic')\n",
        "    plt.legend(loc=\"lower right\")\n",
        "    wandb.log({\n",
        "        \"train_loss\" : t_loss,\n",
        "        \"vaild_loss\" : v_loss,\n",
        "        \"train_acc\" : t_acc,\n",
        "        \"vaild_acc\" : v_acc, \n",
        "        'ROC Curve': wandb.Image(plt)}\n",
        "    )\n",
        "    plt.close()        \n",
        "\n",
        "   "
      ]
    }
  ],
  "metadata": {
    "accelerator": "GPU",
    "colab": {
      "gpuType": "L4",
      "machine_shape": "hm",
      "provenance": []
    },
    "kernelspec": {
      "display_name": "Python 3",
      "name": "python3"
    },
    "language_info": {
      "codemirror_mode": {
        "name": "ipython",
        "version": 3
      },
      "file_extension": ".py",
      "mimetype": "text/x-python",
      "name": "python",
      "nbconvert_exporter": "python",
      "pygments_lexer": "ipython3",
      "version": "3.9.19"
    },
    "widgets": {
      "application/vnd.jupyter.widget-state+json": {
        "0f38771fd702463cac3e55f0f835442e": {
          "model_module": "@jupyter-widgets/base",
          "model_module_version": "1.2.0",
          "model_name": "LayoutModel",
          "state": {
            "_model_module": "@jupyter-widgets/base",
            "_model_module_version": "1.2.0",
            "_model_name": "LayoutModel",
            "_view_count": null,
            "_view_module": "@jupyter-widgets/base",
            "_view_module_version": "1.2.0",
            "_view_name": "LayoutView",
            "align_content": null,
            "align_items": null,
            "align_self": null,
            "border": null,
            "bottom": null,
            "display": null,
            "flex": null,
            "flex_flow": null,
            "grid_area": null,
            "grid_auto_columns": null,
            "grid_auto_flow": null,
            "grid_auto_rows": null,
            "grid_column": null,
            "grid_gap": null,
            "grid_row": null,
            "grid_template_areas": null,
            "grid_template_columns": null,
            "grid_template_rows": null,
            "height": null,
            "justify_content": null,
            "justify_items": null,
            "left": null,
            "margin": null,
            "max_height": null,
            "max_width": null,
            "min_height": null,
            "min_width": null,
            "object_fit": null,
            "object_position": null,
            "order": null,
            "overflow": null,
            "overflow_x": null,
            "overflow_y": null,
            "padding": null,
            "right": null,
            "top": null,
            "visibility": null,
            "width": null
          }
        },
        "1d03705932f14e6995ac658d8e9b0269": {
          "model_module": "@jupyter-widgets/controls",
          "model_module_version": "1.5.0",
          "model_name": "ProgressStyleModel",
          "state": {
            "_model_module": "@jupyter-widgets/controls",
            "_model_module_version": "1.5.0",
            "_model_name": "ProgressStyleModel",
            "_view_count": null,
            "_view_module": "@jupyter-widgets/base",
            "_view_module_version": "1.2.0",
            "_view_name": "StyleView",
            "bar_color": null,
            "description_width": ""
          }
        },
        "2224938871014d46a8ca387fa94bbc48": {
          "model_module": "@jupyter-widgets/controls",
          "model_module_version": "1.5.0",
          "model_name": "DescriptionStyleModel",
          "state": {
            "_model_module": "@jupyter-widgets/controls",
            "_model_module_version": "1.5.0",
            "_model_name": "DescriptionStyleModel",
            "_view_count": null,
            "_view_module": "@jupyter-widgets/base",
            "_view_module_version": "1.2.0",
            "_view_name": "StyleView",
            "description_width": ""
          }
        },
        "29025c4565c747da8226b36b6dde96eb": {
          "model_module": "@jupyter-widgets/controls",
          "model_module_version": "1.5.0",
          "model_name": "VBoxModel",
          "state": {
            "_dom_classes": [],
            "_model_module": "@jupyter-widgets/controls",
            "_model_module_version": "1.5.0",
            "_model_name": "VBoxModel",
            "_view_count": null,
            "_view_module": "@jupyter-widgets/controls",
            "_view_module_version": "1.5.0",
            "_view_name": "VBoxView",
            "box_style": "",
            "children": [
              "IPY_MODEL_90ff3347227d4784aaf0e69d34e7cead",
              "IPY_MODEL_45815ac2a9af4bc087602bbd9c14d361"
            ],
            "layout": "IPY_MODEL_f12441a326684591b55344e8c2152995"
          }
        },
        "2d02ef00cb74471e9031253e208896d3": {
          "model_module": "@jupyter-widgets/controls",
          "model_module_version": "1.5.0",
          "model_name": "VBoxModel",
          "state": {
            "_dom_classes": [],
            "_model_module": "@jupyter-widgets/controls",
            "_model_module_version": "1.5.0",
            "_model_name": "VBoxModel",
            "_view_count": null,
            "_view_module": "@jupyter-widgets/controls",
            "_view_module_version": "1.5.0",
            "_view_name": "VBoxView",
            "box_style": "",
            "children": [
              "IPY_MODEL_6d5ecb135f8c49bd96fea05f9ad1f09f",
              "IPY_MODEL_ded3f4b2ecb34a2d81684d41f786b13e"
            ],
            "layout": "IPY_MODEL_f45e24f88ac74a8c876e1f741c97469b"
          }
        },
        "45815ac2a9af4bc087602bbd9c14d361": {
          "model_module": "@jupyter-widgets/controls",
          "model_module_version": "1.5.0",
          "model_name": "FloatProgressModel",
          "state": {
            "_dom_classes": [],
            "_model_module": "@jupyter-widgets/controls",
            "_model_module_version": "1.5.0",
            "_model_name": "FloatProgressModel",
            "_view_count": null,
            "_view_module": "@jupyter-widgets/controls",
            "_view_module_version": "1.5.0",
            "_view_name": "ProgressView",
            "bar_style": "",
            "description": "",
            "description_tooltip": null,
            "layout": "IPY_MODEL_0f38771fd702463cac3e55f0f835442e",
            "max": 1,
            "min": 0,
            "orientation": "horizontal",
            "style": "IPY_MODEL_1d03705932f14e6995ac658d8e9b0269",
            "value": 0.9895233138444433
          }
        },
        "6d5ecb135f8c49bd96fea05f9ad1f09f": {
          "model_module": "@jupyter-widgets/controls",
          "model_module_version": "1.5.0",
          "model_name": "LabelModel",
          "state": {
            "_dom_classes": [],
            "_model_module": "@jupyter-widgets/controls",
            "_model_module_version": "1.5.0",
            "_model_name": "LabelModel",
            "_view_count": null,
            "_view_module": "@jupyter-widgets/controls",
            "_view_module_version": "1.5.0",
            "_view_name": "LabelView",
            "description": "",
            "description_tooltip": null,
            "layout": "IPY_MODEL_ddad7b0e4f414a63bdb1fc7c20d0f8d7",
            "placeholder": "​",
            "style": "IPY_MODEL_f355a180e44d4d40b264426665930313",
            "value": "Waiting for wandb.init()...\r"
          }
        },
        "90ff3347227d4784aaf0e69d34e7cead": {
          "model_module": "@jupyter-widgets/controls",
          "model_module_version": "1.5.0",
          "model_name": "LabelModel",
          "state": {
            "_dom_classes": [],
            "_model_module": "@jupyter-widgets/controls",
            "_model_module_version": "1.5.0",
            "_model_name": "LabelModel",
            "_view_count": null,
            "_view_module": "@jupyter-widgets/controls",
            "_view_module_version": "1.5.0",
            "_view_name": "LabelView",
            "description": "",
            "description_tooltip": null,
            "layout": "IPY_MODEL_d624003062a94671b18abb91ae65eb57",
            "placeholder": "​",
            "style": "IPY_MODEL_2224938871014d46a8ca387fa94bbc48",
            "value": "Waiting for wandb.init()...\r"
          }
        },
        "ab1b59a2bc9c43cc96b96bda97b45014": {
          "model_module": "@jupyter-widgets/controls",
          "model_module_version": "1.5.0",
          "model_name": "ProgressStyleModel",
          "state": {
            "_model_module": "@jupyter-widgets/controls",
            "_model_module_version": "1.5.0",
            "_model_name": "ProgressStyleModel",
            "_view_count": null,
            "_view_module": "@jupyter-widgets/base",
            "_view_module_version": "1.2.0",
            "_view_name": "StyleView",
            "bar_color": null,
            "description_width": ""
          }
        },
        "d18bdc937fc643f7b9e0c2370d054338": {
          "model_module": "@jupyter-widgets/base",
          "model_module_version": "1.2.0",
          "model_name": "LayoutModel",
          "state": {
            "_model_module": "@jupyter-widgets/base",
            "_model_module_version": "1.2.0",
            "_model_name": "LayoutModel",
            "_view_count": null,
            "_view_module": "@jupyter-widgets/base",
            "_view_module_version": "1.2.0",
            "_view_name": "LayoutView",
            "align_content": null,
            "align_items": null,
            "align_self": null,
            "border": null,
            "bottom": null,
            "display": null,
            "flex": null,
            "flex_flow": null,
            "grid_area": null,
            "grid_auto_columns": null,
            "grid_auto_flow": null,
            "grid_auto_rows": null,
            "grid_column": null,
            "grid_gap": null,
            "grid_row": null,
            "grid_template_areas": null,
            "grid_template_columns": null,
            "grid_template_rows": null,
            "height": null,
            "justify_content": null,
            "justify_items": null,
            "left": null,
            "margin": null,
            "max_height": null,
            "max_width": null,
            "min_height": null,
            "min_width": null,
            "object_fit": null,
            "object_position": null,
            "order": null,
            "overflow": null,
            "overflow_x": null,
            "overflow_y": null,
            "padding": null,
            "right": null,
            "top": null,
            "visibility": null,
            "width": null
          }
        },
        "d624003062a94671b18abb91ae65eb57": {
          "model_module": "@jupyter-widgets/base",
          "model_module_version": "1.2.0",
          "model_name": "LayoutModel",
          "state": {
            "_model_module": "@jupyter-widgets/base",
            "_model_module_version": "1.2.0",
            "_model_name": "LayoutModel",
            "_view_count": null,
            "_view_module": "@jupyter-widgets/base",
            "_view_module_version": "1.2.0",
            "_view_name": "LayoutView",
            "align_content": null,
            "align_items": null,
            "align_self": null,
            "border": null,
            "bottom": null,
            "display": null,
            "flex": null,
            "flex_flow": null,
            "grid_area": null,
            "grid_auto_columns": null,
            "grid_auto_flow": null,
            "grid_auto_rows": null,
            "grid_column": null,
            "grid_gap": null,
            "grid_row": null,
            "grid_template_areas": null,
            "grid_template_columns": null,
            "grid_template_rows": null,
            "height": null,
            "justify_content": null,
            "justify_items": null,
            "left": null,
            "margin": null,
            "max_height": null,
            "max_width": null,
            "min_height": null,
            "min_width": null,
            "object_fit": null,
            "object_position": null,
            "order": null,
            "overflow": null,
            "overflow_x": null,
            "overflow_y": null,
            "padding": null,
            "right": null,
            "top": null,
            "visibility": null,
            "width": null
          }
        },
        "ddad7b0e4f414a63bdb1fc7c20d0f8d7": {
          "model_module": "@jupyter-widgets/base",
          "model_module_version": "1.2.0",
          "model_name": "LayoutModel",
          "state": {
            "_model_module": "@jupyter-widgets/base",
            "_model_module_version": "1.2.0",
            "_model_name": "LayoutModel",
            "_view_count": null,
            "_view_module": "@jupyter-widgets/base",
            "_view_module_version": "1.2.0",
            "_view_name": "LayoutView",
            "align_content": null,
            "align_items": null,
            "align_self": null,
            "border": null,
            "bottom": null,
            "display": null,
            "flex": null,
            "flex_flow": null,
            "grid_area": null,
            "grid_auto_columns": null,
            "grid_auto_flow": null,
            "grid_auto_rows": null,
            "grid_column": null,
            "grid_gap": null,
            "grid_row": null,
            "grid_template_areas": null,
            "grid_template_columns": null,
            "grid_template_rows": null,
            "height": null,
            "justify_content": null,
            "justify_items": null,
            "left": null,
            "margin": null,
            "max_height": null,
            "max_width": null,
            "min_height": null,
            "min_width": null,
            "object_fit": null,
            "object_position": null,
            "order": null,
            "overflow": null,
            "overflow_x": null,
            "overflow_y": null,
            "padding": null,
            "right": null,
            "top": null,
            "visibility": null,
            "width": null
          }
        },
        "ded3f4b2ecb34a2d81684d41f786b13e": {
          "model_module": "@jupyter-widgets/controls",
          "model_module_version": "1.5.0",
          "model_name": "FloatProgressModel",
          "state": {
            "_dom_classes": [],
            "_model_module": "@jupyter-widgets/controls",
            "_model_module_version": "1.5.0",
            "_model_name": "FloatProgressModel",
            "_view_count": null,
            "_view_module": "@jupyter-widgets/controls",
            "_view_module_version": "1.5.0",
            "_view_name": "ProgressView",
            "bar_style": "",
            "description": "",
            "description_tooltip": null,
            "layout": "IPY_MODEL_d18bdc937fc643f7b9e0c2370d054338",
            "max": 1,
            "min": 0,
            "orientation": "horizontal",
            "style": "IPY_MODEL_ab1b59a2bc9c43cc96b96bda97b45014",
            "value": 0.989553353411111
          }
        },
        "f12441a326684591b55344e8c2152995": {
          "model_module": "@jupyter-widgets/base",
          "model_module_version": "1.2.0",
          "model_name": "LayoutModel",
          "state": {
            "_model_module": "@jupyter-widgets/base",
            "_model_module_version": "1.2.0",
            "_model_name": "LayoutModel",
            "_view_count": null,
            "_view_module": "@jupyter-widgets/base",
            "_view_module_version": "1.2.0",
            "_view_name": "LayoutView",
            "align_content": null,
            "align_items": null,
            "align_self": null,
            "border": null,
            "bottom": null,
            "display": null,
            "flex": null,
            "flex_flow": null,
            "grid_area": null,
            "grid_auto_columns": null,
            "grid_auto_flow": null,
            "grid_auto_rows": null,
            "grid_column": null,
            "grid_gap": null,
            "grid_row": null,
            "grid_template_areas": null,
            "grid_template_columns": null,
            "grid_template_rows": null,
            "height": null,
            "justify_content": null,
            "justify_items": null,
            "left": null,
            "margin": null,
            "max_height": null,
            "max_width": null,
            "min_height": null,
            "min_width": null,
            "object_fit": null,
            "object_position": null,
            "order": null,
            "overflow": null,
            "overflow_x": null,
            "overflow_y": null,
            "padding": null,
            "right": null,
            "top": null,
            "visibility": null,
            "width": null
          }
        },
        "f355a180e44d4d40b264426665930313": {
          "model_module": "@jupyter-widgets/controls",
          "model_module_version": "1.5.0",
          "model_name": "DescriptionStyleModel",
          "state": {
            "_model_module": "@jupyter-widgets/controls",
            "_model_module_version": "1.5.0",
            "_model_name": "DescriptionStyleModel",
            "_view_count": null,
            "_view_module": "@jupyter-widgets/base",
            "_view_module_version": "1.2.0",
            "_view_name": "StyleView",
            "description_width": ""
          }
        },
        "f45e24f88ac74a8c876e1f741c97469b": {
          "model_module": "@jupyter-widgets/base",
          "model_module_version": "1.2.0",
          "model_name": "LayoutModel",
          "state": {
            "_model_module": "@jupyter-widgets/base",
            "_model_module_version": "1.2.0",
            "_model_name": "LayoutModel",
            "_view_count": null,
            "_view_module": "@jupyter-widgets/base",
            "_view_module_version": "1.2.0",
            "_view_name": "LayoutView",
            "align_content": null,
            "align_items": null,
            "align_self": null,
            "border": null,
            "bottom": null,
            "display": null,
            "flex": null,
            "flex_flow": null,
            "grid_area": null,
            "grid_auto_columns": null,
            "grid_auto_flow": null,
            "grid_auto_rows": null,
            "grid_column": null,
            "grid_gap": null,
            "grid_row": null,
            "grid_template_areas": null,
            "grid_template_columns": null,
            "grid_template_rows": null,
            "height": null,
            "justify_content": null,
            "justify_items": null,
            "left": null,
            "margin": null,
            "max_height": null,
            "max_width": null,
            "min_height": null,
            "min_width": null,
            "object_fit": null,
            "object_position": null,
            "order": null,
            "overflow": null,
            "overflow_x": null,
            "overflow_y": null,
            "padding": null,
            "right": null,
            "top": null,
            "visibility": null,
            "width": null
          }
        }
      }
    }
  },
  "nbformat": 4,
  "nbformat_minor": 0
}
